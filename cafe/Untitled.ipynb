{
 "cells": [
  {
   "cell_type": "code",
   "execution_count": null,
   "id": "b4cd896e-8ff3-41cf-9551-998cee6f9bc9",
   "metadata": {},
   "outputs": [],
   "source": [
    "import pandas as pd\n",
    "import re\n",
    "from selenium import webdriver\n",
    "from selenium.webdriver.common.by import By\n",
    "from selenium.webdriver.common.keys import Keys\n",
    "from selenium.webdriver.edge.service import Service\n",
    "from selenium.webdriver.edge.options import Options\n",
    "from selenium.webdriver.support.ui import WebDriverWait\n",
    "from selenium.webdriver.support import expected_conditions as EC\n",
    "import time\n",
    "\n",
    "# EdgeDriver 路徑\n",
    "driver_path = r\"C:\\edgedriver_win64\\msedgedriver.exe\"  # 使用您的 EdgeDriver 路徑\n",
    "options = Options()\n",
    "options.add_argument('--incognito')  # 開啟無痕模式\n",
    "\n",
    "# 建立 WebDriver\n",
    "service = Service(driver_path)\n",
    "driver = webdriver.Edge(service=service, options=options)\n",
    "\n",
    "# 開啟 Google Earth\n",
    "url = \"https://earth.google.com/web/\"\n",
    "driver.get(url)\n",
    "\n",
    "# 搜尋欄的 XPath\n",
    "search_input_xpath = \"/html/body/flutter-view/flt-text-editing-host/form[last()]/input[1]\"\n",
    "\n",
    "# 等待搜尋框出現\n",
    "try:\n",
    "    search_input = WebDriverWait(driver, 20).until(\n",
    "        EC.presence_of_element_located((By.XPATH, search_input_xpath))\n",
    "    )\n",
    "    print(\"搜尋欄已找到，檢查是否可互動...\")\n",
    "\n",
    "    # 強制滾動到搜尋欄並確保可見\n",
    "    driver.execute_script(\"arguments[0].scrollIntoView(true);\", search_input)\n",
    "    driver.execute_script(\"arguments[0].style.visibility='visible';\", search_input)\n",
    "\n",
    "    # 模擬點擊以激活搜尋欄\n",
    "    driver.execute_script(\"arguments[0].click();\", search_input)\n",
    "except Exception as e:\n",
    "    print(f\"搜尋欄初始化失敗，錯誤訊息：{e}\")\n",
    "    driver.quit()\n",
    "    exit()\n",
    "\n",
    "# 讀取 CSV\n",
    "file_path = 'C:/Users/USER/cafe/louisa_stores.csv'  # 替換為你的 CSV 檔案路徑\n",
    "output_path = 'C:/Users/USER/cafe/louisa_position.csv'\n",
    "\n",
    "print(\"讀取 CSV 檔案中...\")\n",
    "data = pd.read_csv(file_path)\n",
    "print(f\"讀取完成，共有 {len(data)} 筆資料。\")\n",
    "\n",
    "# 初始化結果列表\n",
    "coordinates = []\n",
    "\n",
    "# 搜尋每個地址\n",
    "for index, row in data.iterrows():\n",
    "    address = row['地址']  # 假設 CSV 中有 \"地址\" 欄位\n",
    "    print(f\"正在搜尋第 {index + 1} 筆地址：{address}...\")\n",
    "    try:\n",
    "        # 等待搜尋框可用\n",
    "        search_input = WebDriverWait(driver, 10).until(\n",
    "            EC.presence_of_element_located((By.XPATH, search_input_xpath))\n",
    "        )\n",
    "\n",
    "        # 確保搜尋欄可互動\n",
    "        driver.execute_script(\"arguments[0].scrollIntoView(true);\", search_input)\n",
    "        driver.execute_script(\"arguments[0].style.visibility='visible';\", search_input)\n",
    "        driver.execute_script(\"arguments[0].click();\", search_input)\n",
    "        \n",
    "        # 清除舊內容並輸入地址\n",
    "        search_input.clear()\n",
    "        search_input.send_keys(address)\n",
    "        search_input.send_keys(Keys.RETURN)\n",
    "        time.sleep(8)  # 等待地圖加載結果\n",
    "\n",
    "        # 提取座標\n",
    "        current_url = driver.current_url\n",
    "        match = re.search(r'@([-0-9.]+),([-0-9.]+),', current_url)\n",
    "        if match:\n",
    "            lat, lng = match.groups()\n",
    "            coordinates.append((address, lat, lng))\n",
    "            print(f\"地址：{address}，座標：({lat}, {lng})\")\n",
    "        else:\n",
    "            coordinates.append((address, None, None))\n",
    "            print(f\"未能提取地址的座標：{address}\")\n",
    "\n",
    "        time.sleep(5)  # 適當延遲以避免被系統判定為機器人\n",
    "\n",
    "    except Exception as e:\n",
    "        print(f\"處理地址時發生錯誤：{address}，錯誤訊息：{e}\")\n",
    "        coordinates.append((address, None, None))\n",
    "\n",
    "# 關閉瀏覽器\n",
    "driver.quit()\n",
    "\n",
    "# 保存結果到 CSV\n",
    "result_df = pd.DataFrame(coordinates, columns=['地址', '緯度', '經度'])\n",
    "result_df.to_csv(output_path, index=False, encoding='utf-8-sig')\n",
    "print(f\"處理完成，結果已保存至 {output_path}\")\n"
   ]
  },
  {
   "cell_type": "code",
   "execution_count": 79,
   "id": "6eeb5cb9-5624-4be7-b248-3ca4d287b2ce",
   "metadata": {},
   "outputs": [
    {
     "ename": "ElementNotInteractableException",
     "evalue": "Message: element not interactable\n  (Session info: MicrosoftEdge=131.0.2903.146)\nStacktrace:\n\t(No symbol) [0x00007FF6F97B6B05]\n\tMicrosoft::Applications::Events::EventProperty::empty [0x00007FF6F9ADF444+1437348]\n\t(No symbol) [0x00007FF6F969519A]\n\t(No symbol) [0x00007FF6F96D5336]\n\t(No symbol) [0x00007FF6F96FC19A]\n\t(No symbol) [0x00007FF6F96D3437]\n\t(No symbol) [0x00007FF6F96D32FD]\n\t(No symbol) [0x00007FF6F96FC480]\n\t(No symbol) [0x00007FF6F96D3437]\n\t(No symbol) [0x00007FF6F9716BFF]\n\t(No symbol) [0x00007FF6F96FBE03]\n\t(No symbol) [0x00007FF6F96D2984]\n\t(No symbol) [0x00007FF6F96D1E30]\n\t(No symbol) [0x00007FF6F96D2571]\n\tMicrosoft::Applications::Events::EventProperty::empty [0x00007FF6F9A8BAD4+1094964]\n\t(No symbol) [0x00007FF6F97F32B8]\n\tMicrosoft::Applications::Events::EventProperty::empty [0x00007FF6F9A8AF13+1091955]\n\tMicrosoft::Applications::Events::EventProperty::empty [0x00007FF6F9A8AA79+1090777]\n\tMicrosoft::Applications::Events::ILogConfiguration::operator* [0x00007FF6F9890C81+461569]\n\tMicrosoft::Applications::Events::ILogConfiguration::operator* [0x00007FF6F988C9A4+444452]\n\tMicrosoft::Applications::Events::ILogConfiguration::operator* [0x00007FF6F988CAE9+444777]\n\tMicrosoft::Applications::Events::ILogConfiguration::operator* [0x00007FF6F9882166+401382]\n\tBaseThreadInitThunk [0x00007FFBC5C67374+20]\n\tRtlUserThreadStart [0x00007FFBC6FFCC91+33]\n",
     "output_type": "error",
     "traceback": [
      "\u001b[1;31m---------------------------------------------------------------------------\u001b[0m",
      "\u001b[1;31mElementNotInteractableException\u001b[0m           Traceback (most recent call last)",
      "Cell \u001b[1;32mIn[79], line 7\u001b[0m\n\u001b[0;32m      5\u001b[0m \u001b[38;5;66;03m# 使用 JavaScript 明確設定焦點\u001b[39;00m\n\u001b[0;32m      6\u001b[0m driver\u001b[38;5;241m.\u001b[39mexecute_script(\u001b[38;5;124m\"\u001b[39m\u001b[38;5;124marguments[0].focus();\u001b[39m\u001b[38;5;124m\"\u001b[39m, search_input)\n\u001b[1;32m----> 7\u001b[0m search_input\u001b[38;5;241m.\u001b[39mclear()\n\u001b[0;32m      8\u001b[0m search_input\u001b[38;5;241m.\u001b[39msend_keys(address)\n",
      "File \u001b[1;32m~\\AppData\\Roaming\\Python\\Python311\\site-packages\\selenium\\webdriver\\remote\\webelement.py:117\u001b[0m, in \u001b[0;36mWebElement.clear\u001b[1;34m(self)\u001b[0m\n\u001b[0;32m    115\u001b[0m \u001b[38;5;28;01mdef\u001b[39;00m \u001b[38;5;21mclear\u001b[39m(\u001b[38;5;28mself\u001b[39m) \u001b[38;5;241m-\u001b[39m\u001b[38;5;241m>\u001b[39m \u001b[38;5;28;01mNone\u001b[39;00m:\n\u001b[0;32m    116\u001b[0m \u001b[38;5;250m    \u001b[39m\u001b[38;5;124;03m\"\"\"Clears the text if it's a text entry element.\"\"\"\u001b[39;00m\n\u001b[1;32m--> 117\u001b[0m     \u001b[38;5;28mself\u001b[39m\u001b[38;5;241m.\u001b[39m_execute(Command\u001b[38;5;241m.\u001b[39mCLEAR_ELEMENT)\n",
      "File \u001b[1;32m~\\AppData\\Roaming\\Python\\Python311\\site-packages\\selenium\\webdriver\\remote\\webelement.py:395\u001b[0m, in \u001b[0;36mWebElement._execute\u001b[1;34m(self, command, params)\u001b[0m\n\u001b[0;32m    393\u001b[0m     params \u001b[38;5;241m=\u001b[39m {}\n\u001b[0;32m    394\u001b[0m params[\u001b[38;5;124m\"\u001b[39m\u001b[38;5;124mid\u001b[39m\u001b[38;5;124m\"\u001b[39m] \u001b[38;5;241m=\u001b[39m \u001b[38;5;28mself\u001b[39m\u001b[38;5;241m.\u001b[39m_id\n\u001b[1;32m--> 395\u001b[0m \u001b[38;5;28;01mreturn\u001b[39;00m \u001b[38;5;28mself\u001b[39m\u001b[38;5;241m.\u001b[39m_parent\u001b[38;5;241m.\u001b[39mexecute(command, params)\n",
      "File \u001b[1;32m~\\AppData\\Roaming\\Python\\Python311\\site-packages\\selenium\\webdriver\\remote\\webdriver.py:384\u001b[0m, in \u001b[0;36mWebDriver.execute\u001b[1;34m(self, driver_command, params)\u001b[0m\n\u001b[0;32m    382\u001b[0m response \u001b[38;5;241m=\u001b[39m \u001b[38;5;28mself\u001b[39m\u001b[38;5;241m.\u001b[39mcommand_executor\u001b[38;5;241m.\u001b[39mexecute(driver_command, params)\n\u001b[0;32m    383\u001b[0m \u001b[38;5;28;01mif\u001b[39;00m response:\n\u001b[1;32m--> 384\u001b[0m     \u001b[38;5;28mself\u001b[39m\u001b[38;5;241m.\u001b[39merror_handler\u001b[38;5;241m.\u001b[39mcheck_response(response)\n\u001b[0;32m    385\u001b[0m     response[\u001b[38;5;124m\"\u001b[39m\u001b[38;5;124mvalue\u001b[39m\u001b[38;5;124m\"\u001b[39m] \u001b[38;5;241m=\u001b[39m \u001b[38;5;28mself\u001b[39m\u001b[38;5;241m.\u001b[39m_unwrap_value(response\u001b[38;5;241m.\u001b[39mget(\u001b[38;5;124m\"\u001b[39m\u001b[38;5;124mvalue\u001b[39m\u001b[38;5;124m\"\u001b[39m, \u001b[38;5;28;01mNone\u001b[39;00m))\n\u001b[0;32m    386\u001b[0m     \u001b[38;5;28;01mreturn\u001b[39;00m response\n",
      "File \u001b[1;32m~\\AppData\\Roaming\\Python\\Python311\\site-packages\\selenium\\webdriver\\remote\\errorhandler.py:232\u001b[0m, in \u001b[0;36mErrorHandler.check_response\u001b[1;34m(self, response)\u001b[0m\n\u001b[0;32m    230\u001b[0m         alert_text \u001b[38;5;241m=\u001b[39m value[\u001b[38;5;124m\"\u001b[39m\u001b[38;5;124malert\u001b[39m\u001b[38;5;124m\"\u001b[39m]\u001b[38;5;241m.\u001b[39mget(\u001b[38;5;124m\"\u001b[39m\u001b[38;5;124mtext\u001b[39m\u001b[38;5;124m\"\u001b[39m)\n\u001b[0;32m    231\u001b[0m     \u001b[38;5;28;01mraise\u001b[39;00m exception_class(message, screen, stacktrace, alert_text)  \u001b[38;5;66;03m# type: ignore[call-arg]  # mypy is not smart enough here\u001b[39;00m\n\u001b[1;32m--> 232\u001b[0m \u001b[38;5;28;01mraise\u001b[39;00m exception_class(message, screen, stacktrace)\n",
      "\u001b[1;31mElementNotInteractableException\u001b[0m: Message: element not interactable\n  (Session info: MicrosoftEdge=131.0.2903.146)\nStacktrace:\n\t(No symbol) [0x00007FF6F97B6B05]\n\tMicrosoft::Applications::Events::EventProperty::empty [0x00007FF6F9ADF444+1437348]\n\t(No symbol) [0x00007FF6F969519A]\n\t(No symbol) [0x00007FF6F96D5336]\n\t(No symbol) [0x00007FF6F96FC19A]\n\t(No symbol) [0x00007FF6F96D3437]\n\t(No symbol) [0x00007FF6F96D32FD]\n\t(No symbol) [0x00007FF6F96FC480]\n\t(No symbol) [0x00007FF6F96D3437]\n\t(No symbol) [0x00007FF6F9716BFF]\n\t(No symbol) [0x00007FF6F96FBE03]\n\t(No symbol) [0x00007FF6F96D2984]\n\t(No symbol) [0x00007FF6F96D1E30]\n\t(No symbol) [0x00007FF6F96D2571]\n\tMicrosoft::Applications::Events::EventProperty::empty [0x00007FF6F9A8BAD4+1094964]\n\t(No symbol) [0x00007FF6F97F32B8]\n\tMicrosoft::Applications::Events::EventProperty::empty [0x00007FF6F9A8AF13+1091955]\n\tMicrosoft::Applications::Events::EventProperty::empty [0x00007FF6F9A8AA79+1090777]\n\tMicrosoft::Applications::Events::ILogConfiguration::operator* [0x00007FF6F9890C81+461569]\n\tMicrosoft::Applications::Events::ILogConfiguration::operator* [0x00007FF6F988C9A4+444452]\n\tMicrosoft::Applications::Events::ILogConfiguration::operator* [0x00007FF6F988CAE9+444777]\n\tMicrosoft::Applications::Events::ILogConfiguration::operator* [0x00007FF6F9882166+401382]\n\tBaseThreadInitThunk [0x00007FFBC5C67374+20]\n\tRtlUserThreadStart [0x00007FFBC6FFCC91+33]\n"
     ]
    }
   ],
   "source": [
    "search_input = WebDriverWait(driver, 10).until(\n",
    "    EC.presence_of_element_located((By.XPATH, search_input_xpath))\n",
    ")\n",
    "\n",
    "# 使用 JavaScript 明確設定焦點\n",
    "driver.execute_script(\"arguments[0].focus();\", search_input)\n",
    "search_input.clear()\n",
    "search_input.send_keys(address)"
   ]
  },
  {
   "cell_type": "code",
   "execution_count": 80,
   "id": "332ebafe-c354-4d7d-b9ad-4643cc3d6c63",
   "metadata": {},
   "outputs": [
    {
     "name": "stdout",
     "output_type": "stream",
     "text": [
      "搜尋欄啟用狀態: True, 顯示狀態: False\n"
     ]
    }
   ],
   "source": [
    "is_enabled = search_input.is_enabled()\n",
    "is_displayed = search_input.is_displayed()\n",
    "print(f\"搜尋欄啟用狀態: {is_enabled}, 顯示狀態: {is_displayed}\")"
   ]
  },
  {
   "cell_type": "code",
   "execution_count": null,
   "id": "1e1bd2b0-210d-457d-86fb-f0d9daac91f9",
   "metadata": {},
   "outputs": [],
   "source": []
  }
 ],
 "metadata": {
  "kernelspec": {
   "display_name": "Python 3 (ipykernel)",
   "language": "python",
   "name": "python3"
  },
  "language_info": {
   "codemirror_mode": {
    "name": "ipython",
    "version": 3
   },
   "file_extension": ".py",
   "mimetype": "text/x-python",
   "name": "python",
   "nbconvert_exporter": "python",
   "pygments_lexer": "ipython3",
   "version": "3.11.7"
  }
 },
 "nbformat": 4,
 "nbformat_minor": 5
}
