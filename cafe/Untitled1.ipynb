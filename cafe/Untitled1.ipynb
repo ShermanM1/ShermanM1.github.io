{
 "cells": [
  {
   "cell_type": "code",
   "execution_count": 1,
   "id": "da84b1a4-dde7-4bf4-88e2-e54e11dbe464",
   "metadata": {},
   "outputs": [
    {
     "ename": "NameError",
     "evalue": "name 'ID' is not defined",
     "output_type": "error",
     "traceback": [
      "\u001b[1;31m---------------------------------------------------------------------------\u001b[0m",
      "\u001b[1;31mNameError\u001b[0m                                 Traceback (most recent call last)",
      "Cell \u001b[1;32mIn[1], line 1\u001b[0m\n\u001b[1;32m----> 1\u001b[0m ID,Location\n\u001b[0;32m      2\u001b[0m \u001b[38;5;241m1\u001b[39m,\u001b[38;5;241m25.097184669516718\u001b[39m, \u001b[38;5;241m121.71229456503163\u001b[39m\n\u001b[0;32m      3\u001b[0m \u001b[38;5;241m2\u001b[39m,\u001b[38;5;241m24.123456789012345\u001b[39m, \u001b[38;5;241m120.98765432109876\u001b[39m\n",
      "\u001b[1;31mNameError\u001b[0m: name 'ID' is not defined"
     ]
    }
   ],
   "source": [
    "ID,Location\n",
    "1,25.097184669516718, 121.71229456503163\n",
    "2,24.123456789012345, 120.98765432109876"
   ]
  },
  {
   "cell_type": "code",
   "execution_count": 12,
   "id": "d75fa41e-b462-477f-bf30-f61623436448",
   "metadata": {},
   "outputs": [],
   "source": [
    "import pandas as pd\n",
    "\n",
    "# 正確讀取 CSV 檔案\n",
    "df = pd.read_csv('C:/Users/USER/Cafe/ALL.csv', encoding='utf-8')  # 若原始檔案是 Big5，改為 encoding='big5'\n",
    "\n",
    "# 將 Location 欄位分成 緯度 和 經度\n",
    "df[['latitude', 'longitude']] = df['座標'].str.split(',', expand=True)\n",
    "\n",
    "# 去除經緯度中的空白（如果有）\n",
    "df['latitude'] = df['latitude'].str.strip()\n",
    "df['longitude'] = df['longitude'].str.strip()\n",
    "\n",
    "# 刪除原始的 Location 欄位（可選）\n",
    "df.drop('座標', axis=1, inplace=True)\n",
    "\n",
    "# 將結果保存到新的 CSV 檔案並保持編碼格式\n",
    "df.to_csv('ALL_output.csv', index=False, encoding='utf-8-sig')  # 若需要 Big5，改為 encoding='big5'\n"
   ]
  },
  {
   "cell_type": "code",
   "execution_count": null,
   "id": "9bd8a26e-bcf7-4af9-a366-ce60156f6c67",
   "metadata": {},
   "outputs": [],
   "source": []
  }
 ],
 "metadata": {
  "kernelspec": {
   "display_name": "Python 3 (ipykernel)",
   "language": "python",
   "name": "python3"
  },
  "language_info": {
   "codemirror_mode": {
    "name": "ipython",
    "version": 3
   },
   "file_extension": ".py",
   "mimetype": "text/x-python",
   "name": "python",
   "nbconvert_exporter": "python",
   "pygments_lexer": "ipython3",
   "version": "3.11.7"
  }
 },
 "nbformat": 4,
 "nbformat_minor": 5
}
